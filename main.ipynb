{
 "cells": [
  {
   "cell_type": "code",
   "execution_count": null,
   "id": "d4a7ed78",
   "metadata": {},
   "outputs": [],
   "source": [
    "import numpy as np\n",
    "import pandas as pd"
   ]
  },
  {
   "cell_type": "code",
   "execution_count": null,
   "id": "913f431c",
   "metadata": {},
   "outputs": [],
   "source": [
    "# Dosya yolunu tam olarak belirtiyoruz\n",
    "file_path = r'C:\\Users\\Barış\\Desktop\\soru3_data.xlsx'"
   ]
  },
  {
   "cell_type": "code",
   "execution_count": null,
   "id": "462d6dca",
   "metadata": {},
   "outputs": [],
   "source": [
    "# Dosyayı yükle\n",
    "df = pd.read_excel(file_path, header=None)"
   ]
  },
  {
   "cell_type": "code",
   "execution_count": null,
   "id": "f37d118c",
   "metadata": {
    "lines_to_next_cell": 1
   },
   "outputs": [],
   "source": [
    "# Veriyi numpy array'e çevir\n",
    "data = df.to_numpy()"
   ]
  },
  {
   "cell_type": "code",
   "execution_count": null,
   "id": "75370b14",
   "metadata": {
    "lines_to_next_cell": 1
   },
   "outputs": [],
   "source": [
    "# Gauss yumuşatma filtresini oluştur\n",
    "def gauss_kernel(size, sigma=1):\n",
    "    kernel = np.fromfunction(\n",
    "        lambda x, y: (1 / (2 * np.pi * sigma ** 2)) * np.exp(\n",
    "            - ((x - (size - 1) / 2) ** 2 + (y - (size - 1) / 2) ** 2) / (2 * sigma ** 2)\n",
    "        ),\n",
    "        (size, size)\n",
    "    )\n",
    "    return kernel / np.sum(kernel)"
   ]
  },
  {
   "cell_type": "code",
   "execution_count": null,
   "id": "e8550fe2",
   "metadata": {},
   "outputs": [],
   "source": [
    "# 3x3 Gauss filtresi\n",
    "kernel_size = 3\n",
    "sigma = 1\n",
    "kernel = gauss_kernel(kernel_size, sigma)"
   ]
  },
  {
   "cell_type": "code",
   "execution_count": null,
   "id": "dd42d348",
   "metadata": {},
   "outputs": [],
   "source": [
    "# Yeni matris (30x30 boyutunda)\n",
    "output_size = data.shape[0] - kernel_size + 1\n",
    "output_data = np.zeros((output_size, output_size))"
   ]
  },
  {
   "cell_type": "code",
   "execution_count": null,
   "id": "d5f7ce52",
   "metadata": {},
   "outputs": [],
   "source": [
    "# İç içe döngülerle Gauss filtresini uygulama\n",
    "for i in range(output_size):\n",
    "    for j in range(output_size):\n",
    "        # Görüntü parçası\n",
    "        region = data[i:i + kernel_size, j:j + kernel_size]\n",
    "        # Filtreyi uygula\n",
    "        output_data[i, j] = np.sum(region * kernel)"
   ]
  },
  {
   "cell_type": "code",
   "execution_count": null,
   "id": "4632bfce",
   "metadata": {},
   "outputs": [],
   "source": [
    "# Ondalık kısımları atarak tam sayıya çevir\n",
    "output_data = np.round(output_data).astype(int)"
   ]
  },
  {
   "cell_type": "code",
   "execution_count": null,
   "id": "a4394236",
   "metadata": {},
   "outputs": [],
   "source": [
    "# Sonucu gösterme\n",
    "print(\"Gauss Yumuşatma Filtresi Sonucu:\\n\", output_data)"
   ]
  },
  {
   "cell_type": "code",
   "execution_count": null,
   "id": "5ced72d0",
   "metadata": {},
   "outputs": [],
   "source": [
    "# Sonucu bir DataFrame olarak oluşturma\n",
    "output_df = pd.DataFrame(output_data)"
   ]
  },
  {
   "cell_type": "code",
   "execution_count": null,
   "id": "b84bb818",
   "metadata": {},
   "outputs": [],
   "source": [
    "# Sonucu bir Excel dosyasına kaydetme\n",
    "output_file_path = r'C:\\Users\\Barış\\Desktop\\gaussian_blur_results.xlsx'\n",
    "output_df.to_excel(output_file_path, index=False, header=False)\n",
    "print(f'Sonuç başarıyla {output_file_path} dosyasına kaydedildi.')"
   ]
  }
 ],
 "metadata": {
  "jupytext": {
   "cell_metadata_filter": "-all",
   "main_language": "python",
   "notebook_metadata_filter": "-all"
  }
 },
 "nbformat": 4,
 "nbformat_minor": 5
}
